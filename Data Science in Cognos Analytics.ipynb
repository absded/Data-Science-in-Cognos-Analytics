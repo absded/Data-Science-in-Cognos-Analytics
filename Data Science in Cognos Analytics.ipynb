{
 "cells": [
  {
   "cell_type": "code",
   "execution_count": 3,
   "id": "26ae0b8d",
   "metadata": {},
   "outputs": [],
   "source": [
    "import pandas as pd\n",
    "from sklearn.ensemble import RandomForestClassifier, GradientBoostingClassifier\n",
    "from sklearn.preprocessing import StandardScaler\n",
    "from sklearn.model_selection import train_test_split, GridSearchCV\n",
    "from sklearn.pipeline import make_pipeline"
   ]
  },
  {
   "cell_type": "code",
   "execution_count": 4,
   "id": "c6d1d777",
   "metadata": {},
   "outputs": [],
   "source": [
    "df = pd.read_csv('Default.csv')"
   ]
  },
  {
   "cell_type": "code",
   "execution_count": 5,
   "id": "8a33e0cc",
   "metadata": {
    "scrolled": false
   },
   "outputs": [
    {
     "data": {
      "text/html": [
       "<div>\n",
       "<style scoped>\n",
       "    .dataframe tbody tr th:only-of-type {\n",
       "        vertical-align: middle;\n",
       "    }\n",
       "\n",
       "    .dataframe tbody tr th {\n",
       "        vertical-align: top;\n",
       "    }\n",
       "\n",
       "    .dataframe thead th {\n",
       "        text-align: right;\n",
       "    }\n",
       "</style>\n",
       "<table border=\"1\" class=\"dataframe\">\n",
       "  <thead>\n",
       "    <tr style=\"text-align: right;\">\n",
       "      <th></th>\n",
       "      <th>Customer ID</th>\n",
       "      <th>Country</th>\n",
       "      <th>State</th>\n",
       "      <th>Postal Code</th>\n",
       "      <th>Gender</th>\n",
       "      <th>Senior Citizen</th>\n",
       "      <th>Partner</th>\n",
       "      <th>Dependents</th>\n",
       "      <th>tenure</th>\n",
       "      <th>Phone Service</th>\n",
       "      <th>...</th>\n",
       "      <th>Device Protection</th>\n",
       "      <th>Tech Support</th>\n",
       "      <th>Streaming TV</th>\n",
       "      <th>Streaming Movies</th>\n",
       "      <th>Contract</th>\n",
       "      <th>Paperless Billing</th>\n",
       "      <th>Payment Method</th>\n",
       "      <th>Monthly Charges</th>\n",
       "      <th>Total Charges</th>\n",
       "      <th>Default</th>\n",
       "    </tr>\n",
       "  </thead>\n",
       "  <tbody>\n",
       "    <tr>\n",
       "      <th>0</th>\n",
       "      <td>7590-VHVEA</td>\n",
       "      <td>Australia</td>\n",
       "      <td>New South Wales</td>\n",
       "      <td>2000</td>\n",
       "      <td>Female</td>\n",
       "      <td>0</td>\n",
       "      <td>Yes</td>\n",
       "      <td>No</td>\n",
       "      <td>1</td>\n",
       "      <td>No</td>\n",
       "      <td>...</td>\n",
       "      <td>No</td>\n",
       "      <td>No</td>\n",
       "      <td>No</td>\n",
       "      <td>No</td>\n",
       "      <td>Month-to-month</td>\n",
       "      <td>Yes</td>\n",
       "      <td>Electronic check</td>\n",
       "      <td>29.85</td>\n",
       "      <td>29.85</td>\n",
       "      <td>No</td>\n",
       "    </tr>\n",
       "    <tr>\n",
       "      <th>1</th>\n",
       "      <td>7590-VHVEG</td>\n",
       "      <td>Australia</td>\n",
       "      <td>New South Wales</td>\n",
       "      <td>2035</td>\n",
       "      <td>Female</td>\n",
       "      <td>0</td>\n",
       "      <td>Yes</td>\n",
       "      <td>No</td>\n",
       "      <td>1</td>\n",
       "      <td>No</td>\n",
       "      <td>...</td>\n",
       "      <td>No</td>\n",
       "      <td>No</td>\n",
       "      <td>No</td>\n",
       "      <td>No</td>\n",
       "      <td>Month-to-month</td>\n",
       "      <td>Yes</td>\n",
       "      <td>Electronic check</td>\n",
       "      <td>29.85</td>\n",
       "      <td>29.85</td>\n",
       "      <td>No</td>\n",
       "    </tr>\n",
       "    <tr>\n",
       "      <th>2</th>\n",
       "      <td>5575-GNVDE</td>\n",
       "      <td>Australia</td>\n",
       "      <td>New South Wales</td>\n",
       "      <td>2014</td>\n",
       "      <td>Male</td>\n",
       "      <td>0</td>\n",
       "      <td>No</td>\n",
       "      <td>No</td>\n",
       "      <td>34</td>\n",
       "      <td>Yes</td>\n",
       "      <td>...</td>\n",
       "      <td>Yes</td>\n",
       "      <td>No</td>\n",
       "      <td>No</td>\n",
       "      <td>No</td>\n",
       "      <td>One year</td>\n",
       "      <td>No</td>\n",
       "      <td>Mailed check</td>\n",
       "      <td>56.95</td>\n",
       "      <td>1889.5</td>\n",
       "      <td>No</td>\n",
       "    </tr>\n",
       "    <tr>\n",
       "      <th>3</th>\n",
       "      <td>3668-QPYBK</td>\n",
       "      <td>Australia</td>\n",
       "      <td>New South Wales</td>\n",
       "      <td>2041</td>\n",
       "      <td>Male</td>\n",
       "      <td>0</td>\n",
       "      <td>No</td>\n",
       "      <td>No</td>\n",
       "      <td>2</td>\n",
       "      <td>Yes</td>\n",
       "      <td>...</td>\n",
       "      <td>No</td>\n",
       "      <td>No</td>\n",
       "      <td>No</td>\n",
       "      <td>No</td>\n",
       "      <td>Month-to-month</td>\n",
       "      <td>Yes</td>\n",
       "      <td>Mailed check</td>\n",
       "      <td>53.85</td>\n",
       "      <td>108.15</td>\n",
       "      <td>Yes</td>\n",
       "    </tr>\n",
       "    <tr>\n",
       "      <th>4</th>\n",
       "      <td>7795-CFOCW</td>\n",
       "      <td>Australia</td>\n",
       "      <td>New South Wales</td>\n",
       "      <td>2050</td>\n",
       "      <td>Male</td>\n",
       "      <td>0</td>\n",
       "      <td>No</td>\n",
       "      <td>No</td>\n",
       "      <td>45</td>\n",
       "      <td>No</td>\n",
       "      <td>...</td>\n",
       "      <td>Yes</td>\n",
       "      <td>Yes</td>\n",
       "      <td>No</td>\n",
       "      <td>No</td>\n",
       "      <td>One year</td>\n",
       "      <td>No</td>\n",
       "      <td>Bank transfer (automatic)</td>\n",
       "      <td>42.30</td>\n",
       "      <td>1840.75</td>\n",
       "      <td>No</td>\n",
       "    </tr>\n",
       "  </tbody>\n",
       "</table>\n",
       "<p>5 rows × 24 columns</p>\n",
       "</div>"
      ],
      "text/plain": [
       "  Customer ID    Country            State  Postal Code  Gender  \\\n",
       "0  7590-VHVEA  Australia  New South Wales         2000  Female   \n",
       "1  7590-VHVEG  Australia  New South Wales         2035  Female   \n",
       "2  5575-GNVDE  Australia  New South Wales         2014    Male   \n",
       "3  3668-QPYBK  Australia  New South Wales         2041    Male   \n",
       "4  7795-CFOCW  Australia  New South Wales         2050    Male   \n",
       "\n",
       "   Senior Citizen Partner Dependents  tenure Phone Service  ...  \\\n",
       "0               0     Yes         No       1            No  ...   \n",
       "1               0     Yes         No       1            No  ...   \n",
       "2               0      No         No      34           Yes  ...   \n",
       "3               0      No         No       2           Yes  ...   \n",
       "4               0      No         No      45            No  ...   \n",
       "\n",
       "  Device Protection Tech Support Streaming TV Streaming Movies  \\\n",
       "0                No           No           No               No   \n",
       "1                No           No           No               No   \n",
       "2               Yes           No           No               No   \n",
       "3                No           No           No               No   \n",
       "4               Yes          Yes           No               No   \n",
       "\n",
       "         Contract Paperless Billing             Payment Method  \\\n",
       "0  Month-to-month               Yes           Electronic check   \n",
       "1  Month-to-month               Yes           Electronic check   \n",
       "2        One year                No               Mailed check   \n",
       "3  Month-to-month               Yes               Mailed check   \n",
       "4        One year                No  Bank transfer (automatic)   \n",
       "\n",
       "  Monthly Charges Total Charges Default  \n",
       "0           29.85         29.85      No  \n",
       "1           29.85         29.85      No  \n",
       "2           56.95        1889.5      No  \n",
       "3           53.85        108.15     Yes  \n",
       "4           42.30       1840.75      No  \n",
       "\n",
       "[5 rows x 24 columns]"
      ]
     },
     "execution_count": 5,
     "metadata": {},
     "output_type": "execute_result"
    }
   ],
   "source": [
    "df.head()"
   ]
  },
  {
   "cell_type": "code",
   "execution_count": null,
   "id": "da763f56",
   "metadata": {},
   "outputs": [],
   "source": [
    "df.info()"
   ]
  },
  {
   "cell_type": "code",
   "execution_count": null,
   "id": "c32a5036",
   "metadata": {},
   "outputs": [],
   "source": [
    "df.describe"
   ]
  },
  {
   "cell_type": "markdown",
   "id": "5ae5fb45",
   "metadata": {},
   "source": [
    "# One hot encode data "
   ]
  },
  {
   "cell_type": "code",
   "execution_count": null,
   "id": "62888f8a",
   "metadata": {},
   "outputs": [],
   "source": [
    "one_hot_col = ['Default', 'Partner', 'Dependents', 'Phone Service', 'Multiple Lines', 'Internet Service', \\\n",
    "               'Online Security', 'Online Backup', 'Device Protection', 'Tech Support', 'Streaming TV', \\\n",
    "               'Streaming Movies', 'Paperless Billing']\n",
    "for col in one_hot_col:\n",
    "    df[col] = df[col].apply(lambda x: 1 if x == \"Yes\" else 0)    "
   ]
  },
  {
   "cell_type": "markdown",
   "id": "ce530cd0",
   "metadata": {},
   "source": [
    "# Creating X and Y vars"
   ]
  },
  {
   "cell_type": "code",
   "execution_count": null,
   "id": "9bd90667",
   "metadata": {},
   "outputs": [],
   "source": [
    "X = pd.get_dummies(df.drop(['Customer ID', 'Default'], axis=1))\n",
    "X = df['Total Charges'].fillna(0, inplace=True)\n",
    "y = df['Default']\n"
   ]
  },
  {
   "cell_type": "markdown",
   "id": "e0b87cda",
   "metadata": {},
   "source": [
    "# Creating train test split model"
   ]
  },
  {
   "cell_type": "code",
   "execution_count": null,
   "id": "cc57fb4d",
   "metadata": {},
   "outputs": [],
   "source": [
    "X_train, X_test, y_train, y_test = train_test_split(X, y, test_size=0.3, random_state=0)\n",
    "\n",
    "\n",
    "#X_train, X_val, y_train, y_val = train_test_split(X_train, y_train, test_size=0.2, stratify=y_train)"
   ]
  },
  {
   "cell_type": "markdown",
   "id": "25c5b26b",
   "metadata": {},
   "source": [
    "   # Build Pipelines"
   ]
  },
  {
   "cell_type": "code",
   "execution_count": null,
   "id": "2e5a35dc",
   "metadata": {},
   "outputs": [],
   "source": [
    "pipelines = {}\n",
    "pipelines['rf'] = make_pipeline(StandardScaler(), RandomForestClassifier(random_state=1234))\n",
    "pipelines['gb'] = make_pipeline(StandardScaler(), GradientBoostingClassifier(random_state=1234))"
   ]
  },
  {
   "cell_type": "markdown",
   "id": "f77d7950",
   "metadata": {},
   "source": [
    "   # Setup hyperparameters"
   ]
  },
  {
   "cell_type": "code",
   "execution_count": null,
   "id": "540e0e04",
   "metadata": {},
   "outputs": [],
   "source": [
    "hyperparams = {}\n",
    "hyperparams [\"rf\"] = {'randomforestclassifier__n_estimators':[100,200,300]}\n",
    "hyperparams ['gb'] = {'gradientboostingclassifier__n_estimators':[100,200,300]}"
   ]
  },
  {
   "cell_type": "markdown",
   "id": "75244251",
   "metadata": {},
   "source": [
    "# Fit Model"
   ]
  },
  {
   "cell_type": "code",
   "execution_count": null,
   "id": "a20f1932",
   "metadata": {},
   "outputs": [],
   "source": [
    "fit_models = {}\n",
    "\n",
    "for algo, pipeline in pipelines.items():\n",
    "    model = GridSearchCV(pipeline, hyperparams[algo], n_jobs=-1, cv=10)\n",
    "    model.fit(X_train, y_train)\n",
    "    fit_models[algo] = model"
   ]
  },
  {
   "cell_type": "markdown",
   "id": "d2fdccb6",
   "metadata": {},
   "source": [
    "# Evaluate The Model"
   ]
  },
  {
   "cell_type": "code",
   "execution_count": null,
   "id": "909bc2f7",
   "metadata": {},
   "outputs": [],
   "source": [
    "from sklearn.metrics import F1_score, precision_score, recall_score, roc_curve"
   ]
  },
  {
   "cell_type": "code",
   "execution_count": null,
   "id": "07056ee7",
   "metadata": {},
   "outputs": [],
   "source": [
    "for algorithm, model in fit_models.items():\n",
    "    yhat = model.predict(X_test)\n",
    "    print(\"{} Metrics - F1: {}, Precision: {}, Recall: {}\". format(algorithm, str(precision_score(y_test, yhat)), str(recall_score(y_test, yhat))))"
   ]
  },
  {
   "cell_type": "code",
   "execution_count": null,
   "id": "954c078d",
   "metadata": {},
   "outputs": [],
   "source": [
    "from matplotlib import pyplot as plt\n",
    "fpr, tpr, _ = roc_curve(y_test.values, fit_models['rf'].predict(X_test))\n",
    "plt.plot(fpr, tpr, marker='.', label='Random Forest')\n",
    "\n",
    "fpr, tpr, _ = roc_curve(y_test.values, fit_models['gb'].predict(X_test))\n",
    "plt.plot(fpr, tpr, marker='.', label='Gradient Boosted')\n",
    "# axis labels\n",
    "plt.xlabel('False Positive Rate')\n",
    "plt.ylabel('True Positive Rate')\n",
    "# show the legend\n",
    "plt.legend()\n",
    "# show the plot\n",
    "plt.show()"
   ]
  }
 ],
 "metadata": {
  "kernelspec": {
   "display_name": "Python 3 (ipykernel)",
   "language": "python",
   "name": "python3"
  },
  "language_info": {
   "codemirror_mode": {
    "name": "ipython",
    "version": 3
   },
   "file_extension": ".py",
   "mimetype": "text/x-python",
   "name": "python",
   "nbconvert_exporter": "python",
   "pygments_lexer": "ipython3",
   "version": "3.9.12"
  }
 },
 "nbformat": 4,
 "nbformat_minor": 5
}
